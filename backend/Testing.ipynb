{
 "cells": [
  {
   "cell_type": "code",
   "execution_count": 1,
   "metadata": {},
   "outputs": [
    {
     "name": "stderr",
     "output_type": "stream",
     "text": [
      "/opt/homebrew/lib/python3.10/site-packages/tqdm/auto.py:22: TqdmWarning: IProgress not found. Please update jupyter and ipywidgets. See https://ipywidgets.readthedocs.io/en/stable/user_install.html\n",
      "  from .autonotebook import tqdm as notebook_tqdm\n"
     ]
    }
   ],
   "source": [
    "from MultiLabelClassificationModel import MultiLabelClassificationModel, TOPICS, RANDOM_SEED"
   ]
  },
  {
   "cell_type": "code",
   "execution_count": 2,
   "metadata": {},
   "outputs": [
    {
     "name": "stderr",
     "output_type": "stream",
     "text": [
      "Some weights of the model checkpoint at bert-base-cased were not used when initializing BertModel: ['cls.predictions.transform.LayerNorm.bias', 'cls.seq_relationship.bias', 'cls.predictions.transform.LayerNorm.weight', 'cls.predictions.bias', 'cls.predictions.transform.dense.bias', 'cls.predictions.transform.dense.weight', 'cls.predictions.decoder.weight', 'cls.seq_relationship.weight']\n",
      "- This IS expected if you are initializing BertModel from the checkpoint of a model trained on another task or with another architecture (e.g. initializing a BertForSequenceClassification model from a BertForPreTraining model).\n",
      "- This IS NOT expected if you are initializing BertModel from the checkpoint of a model that you expect to be exactly identical (initializing a BertForSequenceClassification model from a BertForSequenceClassification model).\n",
      "Some weights of the model checkpoint at bert-base-cased were not used when initializing BertModel: ['cls.predictions.transform.LayerNorm.bias', 'cls.seq_relationship.bias', 'cls.predictions.transform.LayerNorm.weight', 'cls.predictions.bias', 'cls.predictions.transform.dense.bias', 'cls.predictions.transform.dense.weight', 'cls.predictions.decoder.weight', 'cls.seq_relationship.weight']\n",
      "- This IS expected if you are initializing BertModel from the checkpoint of a model trained on another task or with another architecture (e.g. initializing a BertForSequenceClassification model from a BertForPreTraining model).\n",
      "- This IS NOT expected if you are initializing BertModel from the checkpoint of a model that you expect to be exactly identical (initializing a BertForSequenceClassification model from a BertForSequenceClassification model).\n"
     ]
    },
    {
     "name": "stdout",
     "output_type": "stream",
     "text": [
      "MultiLabelClassificationModel ready to use\n"
     ]
    }
   ],
   "source": [
    "model = MultiLabelClassificationModel()"
   ]
  },
  {
   "cell_type": "code",
   "execution_count": 3,
   "metadata": {},
   "outputs": [
    {
     "data": {
      "text/html": [
       "<div>\n",
       "<style scoped>\n",
       "    .dataframe tbody tr th:only-of-type {\n",
       "        vertical-align: middle;\n",
       "    }\n",
       "\n",
       "    .dataframe tbody tr th {\n",
       "        vertical-align: top;\n",
       "    }\n",
       "\n",
       "    .dataframe thead th {\n",
       "        text-align: right;\n",
       "    }\n",
       "</style>\n",
       "<table border=\"1\" class=\"dataframe\">\n",
       "  <thead>\n",
       "    <tr style=\"text-align: right;\">\n",
       "      <th></th>\n",
       "      <th>text</th>\n",
       "      <th>category</th>\n",
       "      <th>url</th>\n",
       "    </tr>\n",
       "  </thead>\n",
       "  <tbody>\n",
       "    <tr>\n",
       "      <th>0</th>\n",
       "      <td>You are participating in Yet Another Tournamen...</td>\n",
       "      <td>[greedy, sortings]</td>\n",
       "      <td>https://codeforces.com/problemset/problem/1783/C</td>\n",
       "    </tr>\n",
       "    <tr>\n",
       "      <th>1</th>\n",
       "      <td>An array a is called ugly if it contains at le...</td>\n",
       "      <td>[math, sortings]</td>\n",
       "      <td>https://codeforces.com/problemset/problem/1783/A</td>\n",
       "    </tr>\n",
       "    <tr>\n",
       "      <th>2</th>\n",
       "      <td>Let' s call a string balanced if all character...</td>\n",
       "      <td>[greedy, sortings, strings]</td>\n",
       "      <td>https://codeforces.com/problemset/problem/1781/C</td>\n",
       "    </tr>\n",
       "    <tr>\n",
       "      <th>3</th>\n",
       "      <td>A company of n people is planning a visit to t...</td>\n",
       "      <td>[greedy, sortings]</td>\n",
       "      <td>https://codeforces.com/problemset/problem/1781/B</td>\n",
       "    </tr>\n",
       "    <tr>\n",
       "      <th>4</th>\n",
       "      <td>This is an interactive problem. Anya has gathe...</td>\n",
       "      <td>[graphs, greedy, sortings]</td>\n",
       "      <td>https://codeforces.com/problemset/problem/1779/E</td>\n",
       "    </tr>\n",
       "  </tbody>\n",
       "</table>\n",
       "</div>"
      ],
      "text/plain": [
       "                                                text  \\\n",
       "0  You are participating in Yet Another Tournamen...   \n",
       "1  An array a is called ugly if it contains at le...   \n",
       "2  Let' s call a string balanced if all character...   \n",
       "3  A company of n people is planning a visit to t...   \n",
       "4  This is an interactive problem. Anya has gathe...   \n",
       "\n",
       "                      category  \\\n",
       "0           [greedy, sortings]   \n",
       "1             [math, sortings]   \n",
       "2  [greedy, sortings, strings]   \n",
       "3           [greedy, sortings]   \n",
       "4   [graphs, greedy, sortings]   \n",
       "\n",
       "                                                url  \n",
       "0  https://codeforces.com/problemset/problem/1783/C  \n",
       "1  https://codeforces.com/problemset/problem/1783/A  \n",
       "2  https://codeforces.com/problemset/problem/1781/C  \n",
       "3  https://codeforces.com/problemset/problem/1781/B  \n",
       "4  https://codeforces.com/problemset/problem/1779/E  "
      ]
     },
     "execution_count": 3,
     "metadata": {},
     "output_type": "execute_result"
    }
   ],
   "source": [
    "import json \n",
    "import pandas as pd\n",
    "import numpy as np\n",
    "import re\n",
    "\n",
    "LOCAL_PATH = \"/Users/abraham/Competitive-programming-problems-classification/backend/\"\n",
    "DRIVE_PATH = \"/content/drive/MyDrive/Competitive-programming-problems-classification/Github/Competitive-programming-problems-classification/backend\"\n",
    "\n",
    "PATH = LOCAL_PATH\n",
    "\n",
    "problems = []\n",
    "for topic in TOPICS:\n",
    "  codeforcesProblems = json.load(open(f\"{PATH}/data/codeforces-{topic}.json\"))\n",
    "  problems.extend(codeforcesProblems)\n",
    "  # omegaupProblems = json.load(open(f\"data/omegaup-{topic}.json\"))\n",
    "  # problems.extend(omegaupProblems)\n",
    "\n",
    "data = []\n",
    "for problem in problems:\n",
    "    validTopics = [topic for topic in problem['topics'] if topic in TOPICS]\n",
    "    text = problem['history']\n",
    "    \n",
    "    data.append({\n",
    "      'text': text,\n",
    "      'category': validTopics,\n",
    "      'url': problem['url'],\n",
    "    })\n",
    "\n",
    "df = pd.DataFrame(data)\n",
    "df.head()"
   ]
  },
  {
   "cell_type": "code",
   "execution_count": 4,
   "metadata": {},
   "outputs": [
    {
     "data": {
      "text/plain": [
       "array([[0, 0, 0, ..., 0, 1, 0],\n",
       "       [0, 0, 0, ..., 0, 1, 0],\n",
       "       [0, 0, 0, ..., 0, 1, 1],\n",
       "       ...,\n",
       "       [1, 0, 0, ..., 0, 0, 0],\n",
       "       [1, 0, 0, ..., 0, 1, 1],\n",
       "       [1, 0, 0, ..., 0, 0, 0]])"
      ]
     },
     "execution_count": 4,
     "metadata": {},
     "output_type": "execute_result"
    }
   ],
   "source": [
    "from MultiLabelClassificationModel import mlb\n",
    "\n",
    "binary_categories = mlb.fit_transform(df['category'])\n",
    "binary_categories"
   ]
  },
  {
   "cell_type": "code",
   "execution_count": 5,
   "metadata": {},
   "outputs": [
    {
     "data": {
      "text/html": [
       "<div>\n",
       "<style scoped>\n",
       "    .dataframe tbody tr th:only-of-type {\n",
       "        vertical-align: middle;\n",
       "    }\n",
       "\n",
       "    .dataframe tbody tr th {\n",
       "        vertical-align: top;\n",
       "    }\n",
       "\n",
       "    .dataframe thead th {\n",
       "        text-align: right;\n",
       "    }\n",
       "</style>\n",
       "<table border=\"1\" class=\"dataframe\">\n",
       "  <thead>\n",
       "    <tr style=\"text-align: right;\">\n",
       "      <th></th>\n",
       "      <th>text</th>\n",
       "      <th>category</th>\n",
       "      <th>url</th>\n",
       "      <th>binary-category</th>\n",
       "    </tr>\n",
       "  </thead>\n",
       "  <tbody>\n",
       "    <tr>\n",
       "      <th>0</th>\n",
       "      <td>You are participating in Yet Another Tournamen...</td>\n",
       "      <td>[greedy, sortings]</td>\n",
       "      <td>https://codeforces.com/problemset/problem/1783/C</td>\n",
       "      <td>[0, 0, 0, 1, 0, 0, 1, 0]</td>\n",
       "    </tr>\n",
       "    <tr>\n",
       "      <th>1</th>\n",
       "      <td>An array a is called ugly if it contains at le...</td>\n",
       "      <td>[math, sortings]</td>\n",
       "      <td>https://codeforces.com/problemset/problem/1783/A</td>\n",
       "      <td>[0, 0, 0, 0, 1, 0, 1, 0]</td>\n",
       "    </tr>\n",
       "    <tr>\n",
       "      <th>2</th>\n",
       "      <td>Let' s call a string balanced if all character...</td>\n",
       "      <td>[greedy, sortings, strings]</td>\n",
       "      <td>https://codeforces.com/problemset/problem/1781/C</td>\n",
       "      <td>[0, 0, 0, 1, 0, 0, 1, 1]</td>\n",
       "    </tr>\n",
       "    <tr>\n",
       "      <th>3</th>\n",
       "      <td>A company of n people is planning a visit to t...</td>\n",
       "      <td>[greedy, sortings]</td>\n",
       "      <td>https://codeforces.com/problemset/problem/1781/B</td>\n",
       "      <td>[0, 0, 0, 1, 0, 0, 1, 0]</td>\n",
       "    </tr>\n",
       "    <tr>\n",
       "      <th>4</th>\n",
       "      <td>This is an interactive problem. Anya has gathe...</td>\n",
       "      <td>[graphs, greedy, sortings]</td>\n",
       "      <td>https://codeforces.com/problemset/problem/1779/E</td>\n",
       "      <td>[0, 0, 1, 1, 0, 0, 1, 0]</td>\n",
       "    </tr>\n",
       "  </tbody>\n",
       "</table>\n",
       "</div>"
      ],
      "text/plain": [
       "                                                text  \\\n",
       "0  You are participating in Yet Another Tournamen...   \n",
       "1  An array a is called ugly if it contains at le...   \n",
       "2  Let' s call a string balanced if all character...   \n",
       "3  A company of n people is planning a visit to t...   \n",
       "4  This is an interactive problem. Anya has gathe...   \n",
       "\n",
       "                      category  \\\n",
       "0           [greedy, sortings]   \n",
       "1             [math, sortings]   \n",
       "2  [greedy, sortings, strings]   \n",
       "3           [greedy, sortings]   \n",
       "4   [graphs, greedy, sortings]   \n",
       "\n",
       "                                                url           binary-category  \n",
       "0  https://codeforces.com/problemset/problem/1783/C  [0, 0, 0, 1, 0, 0, 1, 0]  \n",
       "1  https://codeforces.com/problemset/problem/1783/A  [0, 0, 0, 0, 1, 0, 1, 0]  \n",
       "2  https://codeforces.com/problemset/problem/1781/C  [0, 0, 0, 1, 0, 0, 1, 1]  \n",
       "3  https://codeforces.com/problemset/problem/1781/B  [0, 0, 0, 1, 0, 0, 1, 0]  \n",
       "4  https://codeforces.com/problemset/problem/1779/E  [0, 0, 1, 1, 0, 0, 1, 0]  "
      ]
     },
     "execution_count": 5,
     "metadata": {},
     "output_type": "execute_result"
    }
   ],
   "source": [
    "df['binary-category'] = [x.reshape(-1) for x in binary_categories]\n",
    "df['binary-category'] = df['binary-category'].apply(lambda x: x.reshape(-1))\n",
    "\n",
    "df.head()"
   ]
  },
  {
   "cell_type": "code",
   "execution_count": 6,
   "metadata": {},
   "outputs": [],
   "source": [
    "from sklearn.model_selection import train_test_split\n",
    "x_train, x_test, y_train, y_test = train_test_split(df['text'], df['binary-category'], test_size=0.1, random_state=RANDOM_SEED, shuffle=True)"
   ]
  },
  {
   "cell_type": "code",
   "execution_count": 7,
   "metadata": {},
   "outputs": [
    {
     "data": {
      "text/plain": [
       "(5277    Let us call two integers x and y adjacent if l...\n",
       " 748     A k- multiple free set is a set of integers wh...\n",
       " 1608    You are given some text t and a set of n strin...\n",
       " 4012    You are given two integers l and r , l≤ r . Fi...\n",
       " 5946    In Ancient Berland there were n cities and m t...\n",
       " Name: text, dtype: object,\n",
       " 5277    [0, 0, 1, 0, 1, 1, 0, 0]\n",
       " 748     [0, 0, 0, 1, 0, 0, 1, 0]\n",
       " 1608    [1, 0, 0, 1, 0, 0, 0, 1]\n",
       " 4012    [0, 0, 0, 1, 1, 0, 0, 0]\n",
       " 5946    [0, 0, 1, 0, 0, 0, 0, 0]\n",
       " Name: binary-category, dtype: object)"
      ]
     },
     "execution_count": 7,
     "metadata": {},
     "output_type": "execute_result"
    }
   ],
   "source": [
    "x_test.head(), y_test.head()"
   ]
  },
  {
   "cell_type": "code",
   "execution_count": 8,
   "metadata": {},
   "outputs": [
    {
     "data": {
      "text/plain": [
       "((775,), (775,))"
      ]
     },
     "execution_count": 8,
     "metadata": {},
     "output_type": "execute_result"
    }
   ],
   "source": [
    "\n",
    "x_test.shape, y_test.shape"
   ]
  },
  {
   "cell_type": "code",
   "execution_count": 13,
   "metadata": {},
   "outputs": [],
   "source": [
    "from multiprocessing import Pool\n",
    "\n",
    "PROCESSES = 15\n",
    "\n",
    "with Pool(processes=PROCESSES) as pool:\n",
    "  y_pred = pool.map(model.predict, x_test)"
   ]
  },
  {
   "cell_type": "code",
   "execution_count": 1,
   "metadata": {},
   "outputs": [],
   "source": [
    "from data.testing_results import y_test_results"
   ]
  },
  {
   "cell_type": "code",
   "execution_count": 2,
   "metadata": {},
   "outputs": [],
   "source": [
    "y_pred = y_test_results"
   ]
  },
  {
   "cell_type": "code",
   "execution_count": 3,
   "metadata": {},
   "outputs": [
    {
     "data": {
      "text/plain": [
       "[{'topic': 'math', 'probability': 92.52},\n",
       " {'topic': 'number theory', 'probability': 92.2}]"
      ]
     },
     "execution_count": 3,
     "metadata": {},
     "output_type": "execute_result"
    }
   ],
   "source": [
    "y_pred[0]"
   ]
  },
  {
   "cell_type": "code",
   "execution_count": 13,
   "metadata": {},
   "outputs": [
    {
     "data": {
      "text/plain": [
       "array([[0, 0, 0, ..., 1, 0, 0],\n",
       "       [0, 0, 0, ..., 1, 0, 0],\n",
       "       [0, 0, 0, ..., 0, 0, 1],\n",
       "       ...,\n",
       "       [0, 0, 0, ..., 0, 0, 0],\n",
       "       [0, 0, 1, ..., 0, 0, 0],\n",
       "       [1, 1, 0, ..., 0, 1, 0]])"
      ]
     },
     "execution_count": 13,
     "metadata": {},
     "output_type": "execute_result"
    }
   ],
   "source": [
    "y_pred_binary = []\n",
    "for pred in y_pred:\n",
    "  y_pred_binary.append([values['topic'] for values in pred])\n",
    "    \n",
    "y_pred_binary = mlb.fit_transform(y_pred_binary)\n",
    "y_pred_binary"
   ]
  },
  {
   "cell_type": "code",
   "execution_count": 14,
   "metadata": {},
   "outputs": [
    {
     "data": {
      "text/plain": [
       "(775, 8)"
      ]
     },
     "execution_count": 14,
     "metadata": {},
     "output_type": "execute_result"
    }
   ],
   "source": [
    "y_pred_binary = np.asarray(y_pred_binary)\n",
    "y_pred_binary.shape"
   ]
  },
  {
   "cell_type": "code",
   "execution_count": 15,
   "metadata": {},
   "outputs": [
    {
     "data": {
      "text/plain": [
       "array([[0, 0, 0, ..., 1, 0, 0],\n",
       "       [0, 0, 0, ..., 1, 0, 0],\n",
       "       [0, 0, 0, ..., 0, 0, 1],\n",
       "       ...,\n",
       "       [0, 0, 0, ..., 0, 0, 0],\n",
       "       [0, 0, 1, ..., 0, 0, 0],\n",
       "       [1, 1, 0, ..., 0, 1, 0]])"
      ]
     },
     "execution_count": 15,
     "metadata": {},
     "output_type": "execute_result"
    }
   ],
   "source": [
    "y_pred_binary"
   ]
  },
  {
   "cell_type": "code",
   "execution_count": 16,
   "metadata": {},
   "outputs": [],
   "source": [
    "y_test_fixed = [y.tolist() for y in y_test]"
   ]
  },
  {
   "cell_type": "code",
   "execution_count": 17,
   "metadata": {},
   "outputs": [
    {
     "name": "stderr",
     "output_type": "stream",
     "text": [
      "/opt/homebrew/lib/python3.10/site-packages/sklearn/metrics/_classification.py:1344: UndefinedMetricWarning: Precision and F-score are ill-defined and being set to 0.0 in samples with no predicted labels. Use `zero_division` parameter to control this behavior.\n",
      "  _warn_prf(average, modifier, msg_start, len(result))\n"
     ]
    }
   ],
   "source": [
    "from sklearn.metrics import classification_report\n",
    "\n",
    "report = classification_report(\n",
    "  y_test_fixed,\n",
    "  y_pred_binary,\n",
    "  output_dict = False,\n",
    "  target_names = TOPICS\n",
    ")"
   ]
  },
  {
   "cell_type": "code",
   "execution_count": 18,
   "metadata": {},
   "outputs": [
    {
     "name": "stdout",
     "output_type": "stream",
     "text": [
      "                 precision    recall  f1-score   support\n",
      "\n",
      "       sortings       0.64      0.64      0.64       250\n",
      "        strings       0.81      0.71      0.76        55\n",
      "         greedy       0.62      0.67      0.64       143\n",
      "  number theory       0.62      0.76      0.68       330\n",
      "           math       0.74      0.74      0.74       291\n",
      "         graphs       0.77      0.66      0.71       114\n",
      "       geometry       0.50      0.28      0.36       187\n",
      "data structures       0.79      0.77      0.78        95\n",
      "\n",
      "      micro avg       0.67      0.65      0.66      1465\n",
      "      macro avg       0.69      0.65      0.66      1465\n",
      "   weighted avg       0.66      0.65      0.65      1465\n",
      "    samples avg       0.67      0.67      0.63      1465\n",
      "\n"
     ]
    }
   ],
   "source": [
    "print(report)"
   ]
  },
  {
   "cell_type": "code",
   "execution_count": 21,
   "metadata": {},
   "outputs": [
    {
     "name": "stdout",
     "output_type": "stream",
     "text": [
      "Multilabel confusion matrix sortings\n",
      "[[434  91]\n",
      " [ 91 159]]\n",
      "Multilabel confusion matrix strings\n",
      "[[711   9]\n",
      " [ 16  39]]\n",
      "Multilabel confusion matrix greedy\n",
      "[[572  60]\n",
      " [ 47  96]]\n",
      "Multilabel confusion matrix number theory\n",
      "[[290 155]\n",
      " [ 80 250]]\n",
      "Multilabel confusion matrix math\n",
      "[[410  74]\n",
      " [ 77 214]]\n",
      "Multilabel confusion matrix graphs\n",
      "[[638  23]\n",
      " [ 39  75]]\n",
      "Multilabel confusion matrix geometry\n",
      "[[537  51]\n",
      " [135  52]]\n",
      "Multilabel confusion matrix data structures\n",
      "[[661  19]\n",
      " [ 22  73]]\n"
     ]
    }
   ],
   "source": [
    "from sklearn.metrics import multilabel_confusion_matrix\n",
    "\n",
    "multiMat = multilabel_confusion_matrix(\n",
    "  y_test_fixed,\n",
    "  y_pred_binary,\n",
    ")\n",
    "\n",
    "for topic, mat in zip(TOPICS, multiMat):\n",
    "  print(f\"Multilabel confusion matrix {topic}\")\n",
    "  print(mat)"
   ]
  }
 ],
 "metadata": {
  "kernelspec": {
   "display_name": "Python 3",
   "language": "python",
   "name": "python3"
  },
  "language_info": {
   "codemirror_mode": {
    "name": "ipython",
    "version": 3
   },
   "file_extension": ".py",
   "mimetype": "text/x-python",
   "name": "python",
   "nbconvert_exporter": "python",
   "pygments_lexer": "ipython3",
   "version": "3.10.10"
  },
  "orig_nbformat": 4,
  "vscode": {
   "interpreter": {
    "hash": "b0fa6594d8f4cbf19f97940f81e996739fb7646882a419484c72d19e05852a7e"
   }
  }
 },
 "nbformat": 4,
 "nbformat_minor": 2
}
